{
 "cells": [
  {
   "cell_type": "markdown",
   "metadata": {},
   "source": [
    "# Идентификация голоса как мужского или женского, основанная на акустических свойствах извлеченных из аудиодорожки"
   ]
  },
  {
   "cell_type": "markdown",
   "metadata": {},
   "source": [
    "### Для предварительного анализа имеющихся данных я буду использовать библиотеку Pandas, а также Matplotlib для визуализации различных свойств данных."
   ]
  },
  {
   "cell_type": "code",
   "execution_count": 2,
   "metadata": {
    "collapsed": false
   },
   "outputs": [],
   "source": [
    "import pandas as pd\n",
    "import numpy as np\n",
    "import matplotlib\n",
    "import matplotlib.pyplot as plt\n",
    "#matplotlib.style.use('ggplot')\n",
    "%matplotlib inline"
   ]
  },
  {
   "cell_type": "markdown",
   "metadata": {},
   "source": [
    "## Постановка задачи\n",
    "### Цель задачи состоит в том, чтобы идентифицировать голос, записанный на аудиодорожке как женский или мужской, на основе различных извлеченных из нее характеристик, полученных при предварительной обработке этой аудиодорожки такими пакетами языка R как seewave и tuneR."
   ]
  },
  {
   "cell_type": "markdown",
   "metadata": {},
   "source": [
    "### Перед началом исследования набора данных дам короткие пояснения что значит каждое из полей:\n",
    "\n",
    "### * meanfreq - среднее арифметическое всех частот присутствующих на аудиодорожке\n",
    "### * sd - среднеквадратическое отклонение частоты\n",
    "### * median - медиана частот\n",
    "### * Q25 - первый квартиль частот\n",
    "### * Q75 - третий квартиль частот\n",
    "### * IQR - диапазон частот между первым и третим квартилем\n",
    "### * skew - ассиметрия спектра частот\n",
    "### * kurt - эксцесс спектра частот\n",
    "### * sp.ent - спектральная энтропия\n",
    "### * sfm - спектральная плоскостность\n",
    "### * mode - самая часто встречаемая частота(мода спектра)\n",
    "### * centroid - \"центр масс\" спектра частот\n",
    "### * meanfun - среднее значение фундаментальной частоты\n",
    "### * minfun - минимальное значение фундаментальной частоты\n",
    "### * maxfun - максимальное значение фундаментальной частоты\n",
    "### * meandom - среднее значение доминантной частоты\n",
    "### * mindom - минимальное значение доминантной частоты\n",
    "### * maxdom - максимальное значение доминантной частоты\n",
    "### * dfrange - диапазон доминантной чатоты\n",
    "### * modindx - индекс частотной модуляции\n",
    "### * label - пол(мужской(male) или женский(female))\n",
    "\n",
    "#### *частоты представлены в КГц"
   ]
  },
  {
   "cell_type": "markdown",
   "metadata": {},
   "source": [
    "## Анализ входных данных"
   ]
  },
  {
   "cell_type": "markdown",
   "metadata": {},
   "source": [
    "### Теперь перейдем к анализу имеющихся данных. Для начала загрузим датасет и посмотрим на его структуру:"
   ]
  },
  {
   "cell_type": "code",
   "execution_count": 3,
   "metadata": {
    "collapsed": false
   },
   "outputs": [
    {
     "name": "stdout",
     "output_type": "stream",
     "text": [
      "Number of male samples:  1584\n",
      "Number of female samples:  1584\n"
     ]
    },
    {
     "data": {
      "text/html": [
       "<div>\n",
       "<table border=\"1\" class=\"dataframe\">\n",
       "  <thead>\n",
       "    <tr style=\"text-align: right;\">\n",
       "      <th></th>\n",
       "      <th>meanfreq</th>\n",
       "      <th>sd</th>\n",
       "      <th>median</th>\n",
       "      <th>Q25</th>\n",
       "      <th>Q75</th>\n",
       "      <th>IQR</th>\n",
       "      <th>skew</th>\n",
       "      <th>kurt</th>\n",
       "      <th>sp.ent</th>\n",
       "      <th>sfm</th>\n",
       "      <th>...</th>\n",
       "      <th>centroid</th>\n",
       "      <th>meanfun</th>\n",
       "      <th>minfun</th>\n",
       "      <th>maxfun</th>\n",
       "      <th>meandom</th>\n",
       "      <th>mindom</th>\n",
       "      <th>maxdom</th>\n",
       "      <th>dfrange</th>\n",
       "      <th>modindx</th>\n",
       "      <th>label</th>\n",
       "    </tr>\n",
       "  </thead>\n",
       "  <tbody>\n",
       "    <tr>\n",
       "      <th>0</th>\n",
       "      <td>0.059781</td>\n",
       "      <td>0.064241</td>\n",
       "      <td>0.032027</td>\n",
       "      <td>0.015071</td>\n",
       "      <td>0.090193</td>\n",
       "      <td>0.075122</td>\n",
       "      <td>12.863462</td>\n",
       "      <td>274.402906</td>\n",
       "      <td>0.893369</td>\n",
       "      <td>0.491918</td>\n",
       "      <td>...</td>\n",
       "      <td>0.059781</td>\n",
       "      <td>0.084279</td>\n",
       "      <td>0.015702</td>\n",
       "      <td>0.275862</td>\n",
       "      <td>0.007812</td>\n",
       "      <td>0.007812</td>\n",
       "      <td>0.007812</td>\n",
       "      <td>0.000000</td>\n",
       "      <td>0.000000</td>\n",
       "      <td>male</td>\n",
       "    </tr>\n",
       "    <tr>\n",
       "      <th>1</th>\n",
       "      <td>0.066009</td>\n",
       "      <td>0.067310</td>\n",
       "      <td>0.040229</td>\n",
       "      <td>0.019414</td>\n",
       "      <td>0.092666</td>\n",
       "      <td>0.073252</td>\n",
       "      <td>22.423285</td>\n",
       "      <td>634.613855</td>\n",
       "      <td>0.892193</td>\n",
       "      <td>0.513724</td>\n",
       "      <td>...</td>\n",
       "      <td>0.066009</td>\n",
       "      <td>0.107937</td>\n",
       "      <td>0.015826</td>\n",
       "      <td>0.250000</td>\n",
       "      <td>0.009014</td>\n",
       "      <td>0.007812</td>\n",
       "      <td>0.054688</td>\n",
       "      <td>0.046875</td>\n",
       "      <td>0.052632</td>\n",
       "      <td>male</td>\n",
       "    </tr>\n",
       "    <tr>\n",
       "      <th>2</th>\n",
       "      <td>0.077316</td>\n",
       "      <td>0.083829</td>\n",
       "      <td>0.036718</td>\n",
       "      <td>0.008701</td>\n",
       "      <td>0.131908</td>\n",
       "      <td>0.123207</td>\n",
       "      <td>30.757155</td>\n",
       "      <td>1024.927705</td>\n",
       "      <td>0.846389</td>\n",
       "      <td>0.478905</td>\n",
       "      <td>...</td>\n",
       "      <td>0.077316</td>\n",
       "      <td>0.098706</td>\n",
       "      <td>0.015656</td>\n",
       "      <td>0.271186</td>\n",
       "      <td>0.007990</td>\n",
       "      <td>0.007812</td>\n",
       "      <td>0.015625</td>\n",
       "      <td>0.007812</td>\n",
       "      <td>0.046512</td>\n",
       "      <td>male</td>\n",
       "    </tr>\n",
       "    <tr>\n",
       "      <th>3</th>\n",
       "      <td>0.151228</td>\n",
       "      <td>0.072111</td>\n",
       "      <td>0.158011</td>\n",
       "      <td>0.096582</td>\n",
       "      <td>0.207955</td>\n",
       "      <td>0.111374</td>\n",
       "      <td>1.232831</td>\n",
       "      <td>4.177296</td>\n",
       "      <td>0.963322</td>\n",
       "      <td>0.727232</td>\n",
       "      <td>...</td>\n",
       "      <td>0.151228</td>\n",
       "      <td>0.088965</td>\n",
       "      <td>0.017798</td>\n",
       "      <td>0.250000</td>\n",
       "      <td>0.201497</td>\n",
       "      <td>0.007812</td>\n",
       "      <td>0.562500</td>\n",
       "      <td>0.554688</td>\n",
       "      <td>0.247119</td>\n",
       "      <td>male</td>\n",
       "    </tr>\n",
       "    <tr>\n",
       "      <th>4</th>\n",
       "      <td>0.135120</td>\n",
       "      <td>0.079146</td>\n",
       "      <td>0.124656</td>\n",
       "      <td>0.078720</td>\n",
       "      <td>0.206045</td>\n",
       "      <td>0.127325</td>\n",
       "      <td>1.101174</td>\n",
       "      <td>4.333713</td>\n",
       "      <td>0.971955</td>\n",
       "      <td>0.783568</td>\n",
       "      <td>...</td>\n",
       "      <td>0.135120</td>\n",
       "      <td>0.106398</td>\n",
       "      <td>0.016931</td>\n",
       "      <td>0.266667</td>\n",
       "      <td>0.712812</td>\n",
       "      <td>0.007812</td>\n",
       "      <td>5.484375</td>\n",
       "      <td>5.476562</td>\n",
       "      <td>0.208274</td>\n",
       "      <td>male</td>\n",
       "    </tr>\n",
       "  </tbody>\n",
       "</table>\n",
       "<p>5 rows × 21 columns</p>\n",
       "</div>"
      ],
      "text/plain": [
       "   meanfreq        sd    median       Q25       Q75       IQR       skew  \\\n",
       "0  0.059781  0.064241  0.032027  0.015071  0.090193  0.075122  12.863462   \n",
       "1  0.066009  0.067310  0.040229  0.019414  0.092666  0.073252  22.423285   \n",
       "2  0.077316  0.083829  0.036718  0.008701  0.131908  0.123207  30.757155   \n",
       "3  0.151228  0.072111  0.158011  0.096582  0.207955  0.111374   1.232831   \n",
       "4  0.135120  0.079146  0.124656  0.078720  0.206045  0.127325   1.101174   \n",
       "\n",
       "          kurt    sp.ent       sfm  ...    centroid   meanfun    minfun  \\\n",
       "0   274.402906  0.893369  0.491918  ...    0.059781  0.084279  0.015702   \n",
       "1   634.613855  0.892193  0.513724  ...    0.066009  0.107937  0.015826   \n",
       "2  1024.927705  0.846389  0.478905  ...    0.077316  0.098706  0.015656   \n",
       "3     4.177296  0.963322  0.727232  ...    0.151228  0.088965  0.017798   \n",
       "4     4.333713  0.971955  0.783568  ...    0.135120  0.106398  0.016931   \n",
       "\n",
       "     maxfun   meandom    mindom    maxdom   dfrange   modindx  label  \n",
       "0  0.275862  0.007812  0.007812  0.007812  0.000000  0.000000   male  \n",
       "1  0.250000  0.009014  0.007812  0.054688  0.046875  0.052632   male  \n",
       "2  0.271186  0.007990  0.007812  0.015625  0.007812  0.046512   male  \n",
       "3  0.250000  0.201497  0.007812  0.562500  0.554688  0.247119   male  \n",
       "4  0.266667  0.712812  0.007812  5.484375  5.476562  0.208274   male  \n",
       "\n",
       "[5 rows x 21 columns]"
      ]
     },
     "execution_count": 3,
     "metadata": {},
     "output_type": "execute_result"
    }
   ],
   "source": [
    "data_file_name = 'voice.csv'\n",
    "data = pd.read_csv(data_file_name)\n",
    "print \"Number of male samples: \", data[data['label'] == 'male'].shape[0]\n",
    "print \"Number of female samples: \", data[data['label'] == 'female'].shape[0]\n",
    "data.head()"
   ]
  },
  {
   "cell_type": "code",
   "execution_count": 4,
   "metadata": {
    "collapsed": false
   },
   "outputs": [
    {
     "data": {
      "text/html": [
       "<div>\n",
       "<table border=\"1\" class=\"dataframe\">\n",
       "  <thead>\n",
       "    <tr style=\"text-align: right;\">\n",
       "      <th></th>\n",
       "      <th>meanfreq</th>\n",
       "      <th>sd</th>\n",
       "      <th>median</th>\n",
       "      <th>Q25</th>\n",
       "      <th>Q75</th>\n",
       "      <th>IQR</th>\n",
       "      <th>skew</th>\n",
       "      <th>kurt</th>\n",
       "      <th>sp.ent</th>\n",
       "      <th>sfm</th>\n",
       "      <th>...</th>\n",
       "      <th>centroid</th>\n",
       "      <th>meanfun</th>\n",
       "      <th>minfun</th>\n",
       "      <th>maxfun</th>\n",
       "      <th>meandom</th>\n",
       "      <th>mindom</th>\n",
       "      <th>maxdom</th>\n",
       "      <th>dfrange</th>\n",
       "      <th>modindx</th>\n",
       "      <th>label</th>\n",
       "    </tr>\n",
       "  </thead>\n",
       "  <tbody>\n",
       "    <tr>\n",
       "      <th>3163</th>\n",
       "      <td>0.131884</td>\n",
       "      <td>0.084734</td>\n",
       "      <td>0.153707</td>\n",
       "      <td>0.049285</td>\n",
       "      <td>0.201144</td>\n",
       "      <td>0.151859</td>\n",
       "      <td>1.762129</td>\n",
       "      <td>6.630383</td>\n",
       "      <td>0.962934</td>\n",
       "      <td>0.763182</td>\n",
       "      <td>...</td>\n",
       "      <td>0.131884</td>\n",
       "      <td>0.182790</td>\n",
       "      <td>0.083770</td>\n",
       "      <td>0.262295</td>\n",
       "      <td>0.832899</td>\n",
       "      <td>0.007812</td>\n",
       "      <td>4.210938</td>\n",
       "      <td>4.203125</td>\n",
       "      <td>0.161929</td>\n",
       "      <td>female</td>\n",
       "    </tr>\n",
       "    <tr>\n",
       "      <th>3164</th>\n",
       "      <td>0.116221</td>\n",
       "      <td>0.089221</td>\n",
       "      <td>0.076758</td>\n",
       "      <td>0.042718</td>\n",
       "      <td>0.204911</td>\n",
       "      <td>0.162193</td>\n",
       "      <td>0.693730</td>\n",
       "      <td>2.503954</td>\n",
       "      <td>0.960716</td>\n",
       "      <td>0.709570</td>\n",
       "      <td>...</td>\n",
       "      <td>0.116221</td>\n",
       "      <td>0.188980</td>\n",
       "      <td>0.034409</td>\n",
       "      <td>0.275862</td>\n",
       "      <td>0.909856</td>\n",
       "      <td>0.039062</td>\n",
       "      <td>3.679688</td>\n",
       "      <td>3.640625</td>\n",
       "      <td>0.277897</td>\n",
       "      <td>female</td>\n",
       "    </tr>\n",
       "    <tr>\n",
       "      <th>3165</th>\n",
       "      <td>0.142056</td>\n",
       "      <td>0.095798</td>\n",
       "      <td>0.183731</td>\n",
       "      <td>0.033424</td>\n",
       "      <td>0.224360</td>\n",
       "      <td>0.190936</td>\n",
       "      <td>1.876502</td>\n",
       "      <td>6.604509</td>\n",
       "      <td>0.946854</td>\n",
       "      <td>0.654196</td>\n",
       "      <td>...</td>\n",
       "      <td>0.142056</td>\n",
       "      <td>0.209918</td>\n",
       "      <td>0.039506</td>\n",
       "      <td>0.275862</td>\n",
       "      <td>0.494271</td>\n",
       "      <td>0.007812</td>\n",
       "      <td>2.937500</td>\n",
       "      <td>2.929688</td>\n",
       "      <td>0.194759</td>\n",
       "      <td>female</td>\n",
       "    </tr>\n",
       "    <tr>\n",
       "      <th>3166</th>\n",
       "      <td>0.143659</td>\n",
       "      <td>0.090628</td>\n",
       "      <td>0.184976</td>\n",
       "      <td>0.043508</td>\n",
       "      <td>0.219943</td>\n",
       "      <td>0.176435</td>\n",
       "      <td>1.591065</td>\n",
       "      <td>5.388298</td>\n",
       "      <td>0.950436</td>\n",
       "      <td>0.675470</td>\n",
       "      <td>...</td>\n",
       "      <td>0.143659</td>\n",
       "      <td>0.172375</td>\n",
       "      <td>0.034483</td>\n",
       "      <td>0.250000</td>\n",
       "      <td>0.791360</td>\n",
       "      <td>0.007812</td>\n",
       "      <td>3.593750</td>\n",
       "      <td>3.585938</td>\n",
       "      <td>0.311002</td>\n",
       "      <td>female</td>\n",
       "    </tr>\n",
       "    <tr>\n",
       "      <th>3167</th>\n",
       "      <td>0.165509</td>\n",
       "      <td>0.092884</td>\n",
       "      <td>0.183044</td>\n",
       "      <td>0.070072</td>\n",
       "      <td>0.250827</td>\n",
       "      <td>0.180756</td>\n",
       "      <td>1.705029</td>\n",
       "      <td>5.769115</td>\n",
       "      <td>0.938829</td>\n",
       "      <td>0.601529</td>\n",
       "      <td>...</td>\n",
       "      <td>0.165509</td>\n",
       "      <td>0.185607</td>\n",
       "      <td>0.062257</td>\n",
       "      <td>0.271186</td>\n",
       "      <td>0.227022</td>\n",
       "      <td>0.007812</td>\n",
       "      <td>0.554688</td>\n",
       "      <td>0.546875</td>\n",
       "      <td>0.350000</td>\n",
       "      <td>female</td>\n",
       "    </tr>\n",
       "  </tbody>\n",
       "</table>\n",
       "<p>5 rows × 21 columns</p>\n",
       "</div>"
      ],
      "text/plain": [
       "      meanfreq        sd    median       Q25       Q75       IQR      skew  \\\n",
       "3163  0.131884  0.084734  0.153707  0.049285  0.201144  0.151859  1.762129   \n",
       "3164  0.116221  0.089221  0.076758  0.042718  0.204911  0.162193  0.693730   \n",
       "3165  0.142056  0.095798  0.183731  0.033424  0.224360  0.190936  1.876502   \n",
       "3166  0.143659  0.090628  0.184976  0.043508  0.219943  0.176435  1.591065   \n",
       "3167  0.165509  0.092884  0.183044  0.070072  0.250827  0.180756  1.705029   \n",
       "\n",
       "          kurt    sp.ent       sfm   ...    centroid   meanfun    minfun  \\\n",
       "3163  6.630383  0.962934  0.763182   ...    0.131884  0.182790  0.083770   \n",
       "3164  2.503954  0.960716  0.709570   ...    0.116221  0.188980  0.034409   \n",
       "3165  6.604509  0.946854  0.654196   ...    0.142056  0.209918  0.039506   \n",
       "3166  5.388298  0.950436  0.675470   ...    0.143659  0.172375  0.034483   \n",
       "3167  5.769115  0.938829  0.601529   ...    0.165509  0.185607  0.062257   \n",
       "\n",
       "        maxfun   meandom    mindom    maxdom   dfrange   modindx   label  \n",
       "3163  0.262295  0.832899  0.007812  4.210938  4.203125  0.161929  female  \n",
       "3164  0.275862  0.909856  0.039062  3.679688  3.640625  0.277897  female  \n",
       "3165  0.275862  0.494271  0.007812  2.937500  2.929688  0.194759  female  \n",
       "3166  0.250000  0.791360  0.007812  3.593750  3.585938  0.311002  female  \n",
       "3167  0.271186  0.227022  0.007812  0.554688  0.546875  0.350000  female  \n",
       "\n",
       "[5 rows x 21 columns]"
      ]
     },
     "execution_count": 4,
     "metadata": {},
     "output_type": "execute_result"
    }
   ],
   "source": [
    "data.tail()"
   ]
  },
  {
   "cell_type": "markdown",
   "metadata": {},
   "source": [
    "### Перед началом анализа проверяем нет ли в датасете пропущенных ячеек(данные в которых по тем или иным причинам отсутствуют и Pandas при чтении заменил их на NaN)"
   ]
  },
  {
   "cell_type": "code",
   "execution_count": 4,
   "metadata": {
    "collapsed": false
   },
   "outputs": [
    {
     "data": {
      "text/plain": [
       "meanfreq    3168\n",
       "sd          3168\n",
       "median      3168\n",
       "Q25         3168\n",
       "Q75         3168\n",
       "IQR         3168\n",
       "skew        3168\n",
       "kurt        3168\n",
       "sp.ent      3168\n",
       "sfm         3168\n",
       "mode        3168\n",
       "centroid    3168\n",
       "meanfun     3168\n",
       "minfun      3168\n",
       "maxfun      3168\n",
       "meandom     3168\n",
       "mindom      3168\n",
       "maxdom      3168\n",
       "dfrange     3168\n",
       "modindx     3168\n",
       "label       3168\n",
       "dtype: int64"
      ]
     },
     "execution_count": 4,
     "metadata": {},
     "output_type": "execute_result"
    }
   ],
   "source": [
    "data.notnull().sum()"
   ]
  },
  {
   "cell_type": "markdown",
   "metadata": {
    "collapsed": true
   },
   "source": [
    "### Как видим нам попался очень хороший датасет, ни одного пропущенного значения.\n"
   ]
  },
  {
   "cell_type": "markdown",
   "metadata": {},
   "source": [
    "### Теперь попробуем выявить какие-либо закономерности среди данных, на основании предположений об их природе."
   ]
  },
  {
   "cell_type": "markdown",
   "metadata": {},
   "source": [
    "### Как говорит Википедия: \"Голос типичного взрослого мужчины имеет фундаментальную частоту (нижнюю) от 85 до 155 Гц, типичной взрослой женщины от 165 до 255 Гц.\" Давайте проверим как это утверждение выполняется на наших данных"
   ]
  },
  {
   "cell_type": "code",
   "execution_count": 27,
   "metadata": {
    "collapsed": false,
    "scrolled": true
   },
   "outputs": [
    {
     "data": {
      "text/plain": [
       "<matplotlib.axes._subplots.AxesSubplot at 0xab268b6c>"
      ]
     },
     "execution_count": 27,
     "metadata": {},
     "output_type": "execute_result"
    },
    {
     "data": {
      "image/png": "[encoded data removed]",
      "text/plain": [
       "<matplotlib.figure.Figure at 0xab2a1bec>"
      ]
     },
     "metadata": {},
     "output_type": "display_data"
    }
   ],
   "source": [
    "data['meanfun'][data['label'] == 'male'].plot(figsize = (15, 6))\n",
    "data['meanfun'][data['label'] == 'female'].plot(figsize = (15, 6))"
   ]
  },
  {
   "cell_type": "markdown",
   "metadata": {},
   "source": [
    "### Как видно из графика, предположение подтвердилось очень хорошо. Почти у всех мужчин(синий график), фундаментальная частота ниже 150-155 Гц. У большинства женщин(зеленый график) она выше, но число женщин которые не подходят под этот критерий все же не настолько мало чтобы им можно было пренебречь. Это значит что мы не можем ограничится одним полем и нужно продолжить анализ."
   ]
  },
  {
   "cell_type": "markdown",
   "metadata": {},
   "source": [
    "### Из исследований частотного спектра женского и мужского голосов известно также, что у мужчин спектр воспроизводимых частот гораздо шире. Это может быть связано с тем, что мужчинам в процессе добывания еды в древности нужно было копировать голоса различных птиц и зверей, из-за чего в процессе эволюции их возможности к воспроизведению различных звуков намного больше женских. Если это предположение верно, то стандартное отклонение частоты и межквартильный диапазон у мужчин в среднем должны быть ощутимо больше женских.\n",
    "### Для проверки построим следующие диаграммы:"
   ]
  },
  {
   "cell_type": "code",
   "execution_count": 31,
   "metadata": {
    "collapsed": false,
    "scrolled": true
   },
   "outputs": [
    {
     "data": {
      "text/plain": [
       "<matplotlib.axes._subplots.AxesSubplot at 0xab481d0c>"
      ]
     },
     "execution_count": 31,
     "metadata": {},
     "output_type": "execute_result"
    },
    {
     "data": {
      "image/png": "[encoded data removed]",
      "text/plain": [
       "<matplotlib.figure.Figure at 0xab80464c>"
      ]
     },
     "metadata": {},
     "output_type": "display_data"
    }
   ],
   "source": [
    "fig, axes = plt.subplots(ncols=2)\n",
    "data.pivot_table(values='sd', columns='label', aggfunc=np.mean).plot(kind='bar', ax=axes[0], title='standard deviation')\n",
    "data.pivot_table(values='IQR', columns='label', aggfunc=np.mean).plot(kind='bar', ax=axes[1], title='IQR')"
   ]
  },
  {
   "cell_type": "markdown",
   "metadata": {},
   "source": [
    "### Для межквартильного диапазона предположение подтвердилось, а для стандартного отклонения разница не кажется большой, поэтому для уточнения построим график."
   ]
  },
  {
   "cell_type": "code",
   "execution_count": 34,
   "metadata": {
    "collapsed": false
   },
   "outputs": [
    {
     "data": {
      "text/plain": [
       "<matplotlib.axes._subplots.AxesSubplot at 0xa964b5ac>"
      ]
     },
     "execution_count": 34,
     "metadata": {},
     "output_type": "execute_result"
    },
    {
     "data": {
      "image/png": "[encoded data removed]",
      "text/plain": [
       "<matplotlib.figure.Figure at 0xa97041ec>"
      ]
     },
     "metadata": {},
     "output_type": "display_data"
    }
   ],
   "source": [
    "data['sd'][data['label'] == 'male'].plot(figsize = (15, 6))\n",
    "data['sd'][data['label'] == 'female'].plot(figsize = (15, 6))"
   ]
  },
  {
   "cell_type": "markdown",
   "metadata": {},
   "source": [
    "### Из увиденного можно заключить, что в целом наше предположение подтвердилось, но из-за наличия женщин, которые очень сильно выделяются среди остальных и по отклонению частоты даже превосходят мужчин, среднее значение оказалось немного искажено. "
   ]
  },
  {
   "cell_type": "markdown",
   "metadata": {},
   "source": [
    "### Также хотелось бы обратить внимание на такие характеристики, как мода и спектральная плоскостность. Известно, что в голосе женщин преобладают более высокие частоты, а значит по значению моды по идее можно будет отличить мужской голос от женского. Cпектральная плоскостность характеризует чистоту голоса. Так как в мужском голосе спектр частот выше, это значит что уровень шума в нем больше а следственно он имеет более высокую плоскостность. Именно поэтому для различных объявлений намного чаще выбирают женщин из-за того что их легче услышать в толпе.\n",
    "### Давайте построим диаграммы чобы проверить так ли это в наших данных:"
   ]
  },
  {
   "cell_type": "code",
   "execution_count": 38,
   "metadata": {
    "collapsed": false
   },
   "outputs": [
    {
     "data": {
      "text/plain": [
       "<matplotlib.axes._subplots.AxesSubplot at 0xa914a4cc>"
      ]
     },
     "execution_count": 38,
     "metadata": {},
     "output_type": "execute_result"
    },
    {
     "data": {
      "image/png": "[encoded data removed]",
      "text/plain": [
       "<matplotlib.figure.Figure at 0xa925f1ac>"
      ]
     },
     "metadata": {},
     "output_type": "display_data"
    }
   ],
   "source": [
    "fig, axes = plt.subplots(ncols=2, figsize = (10, 4))\n",
    "data.pivot_table(values='mode', columns='label', aggfunc=np.mean).plot(kind='bar', ax=axes[0], title='mode')\n",
    "data.pivot_table(values='sfm', columns='label', aggfunc=np.mean).plot(kind='bar', ax=axes[1], title='spectral flatness')"
   ]
  },
  {
   "cell_type": "markdown",
   "metadata": {},
   "source": [
    "### Как видите гипотеза снова верна. "
   ]
  },
  {
   "cell_type": "markdown",
   "metadata": {
    "collapsed": true
   },
   "source": [
    "### Итак, мы только что исследовали как влияют на результат часто упоминаемые в литературе характеристики голоса. Но имеется еще около десятка признаков которые могут быть важными, но с которыми нельзя быть так уверенным, как с предыдущими. Поэтому для того чтобы узнать какие признаки важные, какие - нет и насколько одни важнее других давайте воспользуемся одним из методов оценки важности каждого признака и посмотрим что получилось. \n",
    "### Для оценки важности признаков, а также для обучения моделей я буду использовать библиотеку scikit-learn."
   ]
  },
  {
   "cell_type": "code",
   "execution_count": 4,
   "metadata": {
    "collapsed": false,
    "scrolled": false
   },
   "outputs": [],
   "source": [
    "data_array = np.array(data.values)\n",
    "X = data_array[:, 0:-1]\n",
    "y = data_array[:, -1]"
   ]
  },
  {
   "cell_type": "markdown",
   "metadata": {},
   "source": [
    "### Для поставленной цели я решил использовать метод оценки, предоставляемый классом ExtraTreesClassifier. Вкратце этот метод использует деревья решений, в которых каждый узел представляет собой условие, где значение определенного признака сравнивается с каким-то пороговым значением. Для оценки важности посчитывается через узлы с какими признаками классификатор проходит чаще всего.\n",
    "### Особенностью выбранного мной класса является то, что пороговые значения для каждой фичи выбираются случайно несколько раз и наилучшее становится решающим правилом.(Я не претендую на точное описание работы этого класса, но примерно все работает так).\n",
    "### Учитывая то, что в работе класса присутствуют случайности лучше построить несколько диаграмм оценок важности признаков и объединить полученные результаты для построения дальнейших выводов. "
   ]
  },
  {
   "cell_type": "code",
   "execution_count": 5,
   "metadata": {
    "collapsed": false
   },
   "outputs": [
    {
     "data": {
      "image/png": "[encoded data removed]",
      "text/plain": [
       "<matplotlib.figure.Figure at 0xa9d16ccc>"
      ]
     },
     "metadata": {},
     "output_type": "display_data"
    }
   ],
   "source": [
    "from sklearn.ensemble import ExtraTreesClassifier\n",
    "\n",
    "fig, axes = plt.subplots(nrows=5, figsize = (20, 20))\n",
    "for ax in axes:\n",
    "    importance_estimator = ExtraTreesClassifier().fit(X, y)\n",
    "    ax.set_ylim(0, 0.36)\n",
    "    ax.set_xticks(range(data.columns[:-1].size))\n",
    "    ax.set_xticklabels(data.columns[:-1])\n",
    "    ax.bar(range(data.columns[:-1].size), importance_estimator.feature_importances_)"
   ]
  },
  {
   "cell_type": "markdown",
   "metadata": {
    "collapsed": true
   },
   "source": [
    "### Теперь можно заключить, что ключевыми признаками при классификации можно считать уже рассмотренные нами ранее meanfun, IQR и sd, а также Q25 и sp.ent, которые рассмотрены не были. Некоторую роль также играют meanfreq, mode, median, Q75, centroid и sfm. Влияние же остальных признаков для определения пола человека по голосу не очень велико и они служат скорее для разрешения редко возникающих спорных ситуаций."
   ]
  },
  {
   "cell_type": "markdown",
   "metadata": {},
   "source": [
    "## Построение моделей классификации"
   ]
  },
  {
   "cell_type": "markdown",
   "metadata": {},
   "source": [
    "### Перед тем как обучать модели, разделим датасет на тренировочную и тестовую выборку. Я решил взять соотношение 4:1."
   ]
  },
  {
   "cell_type": "code",
   "execution_count": 6,
   "metadata": {
    "collapsed": false
   },
   "outputs": [],
   "source": [
    "from sklearn.model_selection import train_test_split\n",
    "\n",
    "y = data.label\n",
    "X = data.drop(['label'], axis=1)\n",
    "\n",
    "X_train, X_test, y_train, y_test = train_test_split(X, y, test_size=0.2)"
   ]
  },
  {
   "cell_type": "markdown",
   "metadata": {},
   "source": [
    "### Для сравнения алгоритмов и подбора оптимальных гиперпараметров я буду использовать метод скользящего контроля."
   ]
  },
  {
   "cell_type": "code",
   "execution_count": 7,
   "metadata": {
    "collapsed": false
   },
   "outputs": [],
   "source": [
    "from sklearn.model_selection import cross_val_score\n",
    "\n",
    "kfold = 5\n",
    "scores = {}"
   ]
  },
  {
   "cell_type": "markdown",
   "metadata": {},
   "source": [
    "### Для измерения качества работы модели я взял стандартную метрику встроенную во все классификаторы - отношение правильно классифицированных образцов к их общему количеству."
   ]
  },
  {
   "cell_type": "markdown",
   "metadata": {},
   "source": [
    "### Теперь приступим непосредственно к обучению. Для классификации я буду использовать следующие алгоритмы машинного обучения:\n",
    "### - логистическая регрессия;\n",
    "### - k ближайших соседей;\n",
    "### - машина опорных векторов."
   ]
  },
  {
   "cell_type": "code",
   "execution_count": 8,
   "metadata": {
    "collapsed": false
   },
   "outputs": [],
   "source": [
    "from sklearn import svm\n",
    "from sklearn.neighbors import KNeighborsClassifier\n",
    "from sklearn.linear_model import LogisticRegression\n",
    "\n",
    "model_knc = KNeighborsClassifier()\n",
    "model_lr = LogisticRegression() \n",
    "model_svc_linear = svm.SVC(kernel='linear')\n",
    "model_svc_rbf = svm.SVC(kernel='rbf')\n",
    "\n",
    "# model_knc.fit(X_train, y_train)\n",
    "# model_lr.fit(X_train, y_train)\n",
    "# model_svc_linear.fit(X_train, y_train)\n",
    "# model_svc_rbf.fit(X_train, y_train)"
   ]
  },
  {
   "cell_type": "markdown",
   "metadata": {},
   "source": [
    "### Давайте построим диаграмму и сравним производительность"
   ]
  },
  {
   "cell_type": "code",
   "execution_count": 9,
   "metadata": {
    "collapsed": false
   },
   "outputs": [],
   "source": [
    "cv_scores = cross_val_score(model_knc, X_train, y_train, cv = kfold)\n",
    "scores['KNeighborsClassifier'] = cv_scores.mean()\n",
    "cv_scores = cross_val_score(model_lr, X_train, y_train, cv = kfold)\n",
    "scores['LogisticRegression'] = cv_scores.mean()\n",
    "cv_scores = cross_val_score(model_svc_linear, X_train, y_train, cv = kfold)\n",
    "scores['SVC(linear kernel)'] = cv_scores.mean()\n",
    "cv_scores = cross_val_score(model_svc_rbf, X_train, y_train, cv = kfold)\n",
    "scores['SVC(rbf kernel)'] = cv_scores.mean()"
   ]
  },
  {
   "cell_type": "code",
   "execution_count": 10,
   "metadata": {
    "collapsed": false
   },
   "outputs": [
    {
     "data": {
      "text/plain": [
       "<Container object of 4 artists>"
      ]
     },
     "execution_count": 10,
     "metadata": {},
     "output_type": "execute_result"
    },
    {
     "data": {
      "image/png": "[encoded data removed]",
      "text/plain": [
       "<matplotlib.figure.Figure at 0xa99f1f2c>"
      ]
     },
     "metadata": {},
     "output_type": "display_data"
    }
   ],
   "source": [
    "fig, ax = plt.subplots(figsize=(8, 6))\n",
    "\n",
    "xticks = np.arange(len(scores.keys()))\n",
    "\n",
    "ax.set_ylim(0, 1.0)\n",
    "ax.set_yticks(np.linspace(0, 1.0, 21))\n",
    "ax.set_xticks(xticks)\n",
    "ax.set_xticklabels(scores.keys())\n",
    "ax.bar(xticks, scores.values())"
   ]
  },
  {
   "cell_type": "markdown",
   "metadata": {},
   "source": [
    "### Видим, что данные очень даже неплохо разделяются гиперплоскостью. Этим можно объяснить такой отрыв линейных разделителей от нелинейных.\n",
    "### Но в том, как я обучал модели возможен один недостаток, который сейчас попытаюсь исправить. Дело в том, что в вопросе производительности таких алгоритмов как kNN и SVC немаловажную роль играют гиперпараметры, значения которых нужно подобрать в ходе эксперимента. Я же в этом случае использовал их значения по умолчанию."
   ]
  },
  {
   "cell_type": "markdown",
   "metadata": {},
   "source": [
    "### Определять оптимальные значения будем для следующих вещей:\n",
    "### - С и gamma в SVC;\n",
    "### - n_neighbors в kNN."
   ]
  },
  {
   "cell_type": "markdown",
   "metadata": {},
   "source": [
    "### Сначала давайте разберемся с kNN. Для проведения серии экспериментов с разными параметрами я буду использовать такой инструмент из scikit-learn как GridSearch."
   ]
  },
  {
   "cell_type": "code",
   "execution_count": 9,
   "metadata": {
    "collapsed": true
   },
   "outputs": [],
   "source": [
    "from sklearn.model_selection import GridSearchCV"
   ]
  },
  {
   "cell_type": "code",
   "execution_count": 10,
   "metadata": {
    "collapsed": false
   },
   "outputs": [
    {
     "data": {
      "text/plain": [
       "GridSearchCV(cv=None, error_score='raise',\n",
       "       estimator=KNeighborsClassifier(algorithm='auto', leaf_size=30, metric='minkowski',\n",
       "           metric_params=None, n_jobs=1, n_neighbors=5, p=2,\n",
       "           weights='uniform'),\n",
       "       fit_params={}, iid=True, n_jobs=1,\n",
       "       param_grid={'n_neighbors': array([ 1,  2,  3,  4,  5,  6,  7,  8,  9, 10, 11, 12, 13, 14, 15, 16, 17,\n",
       "       18, 19, 20, 21, 22, 23, 24, 25, 26, 27, 28, 29, 30, 31, 32, 33, 34,\n",
       "       35, 36, 37, 38, 39, 40, 41, 42, 43, 44, 45, 46, 47, 48, 49, 50, 51,\n",
       "       52, 53, 54, 55, 56, 57, 58, 59, 60])},\n",
       "       pre_dispatch='2*n_jobs', refit=True, return_train_score=True,\n",
       "       scoring=None, verbose=0)"
      ]
     },
     "execution_count": 10,
     "metadata": {},
     "output_type": "execute_result"
    }
   ],
   "source": [
    "param_grid = {'n_neighbors':np.arange(60) + 1}\n",
    "clf = GridSearchCV(model_knc, param_grid)\n",
    "clf.fit(X_train, y_train)"
   ]
  },
  {
   "cell_type": "code",
   "execution_count": 11,
   "metadata": {
    "collapsed": false,
    "scrolled": true
   },
   "outputs": [
    {
     "name": "stdout",
     "output_type": "stream",
     "text": [
      "{'n_neighbors': 7}\n",
      "0.698500394633\n"
     ]
    }
   ],
   "source": [
    "print clf.best_params_\n",
    "print clf.best_score_"
   ]
  },
  {
   "cell_type": "markdown",
   "metadata": {},
   "source": [
    "### Эксперимент с количеством ближайших соседей от 1 до 60 показал, что лучше всего использовать 7 ближайших соседей, но это не дало ощутимого улучшения производительности.\n",
    "### Теперь попытаемся настроить SVC. "
   ]
  },
  {
   "cell_type": "code",
   "execution_count": 12,
   "metadata": {
    "collapsed": false
   },
   "outputs": [
    {
     "data": {
      "text/plain": [
       "GridSearchCV(cv=None, error_score='raise',\n",
       "       estimator=SVC(C=1.0, cache_size=200, class_weight=None, coef0=0.0,\n",
       "  decision_function_shape=None, degree=3, gamma='auto', kernel='rbf',\n",
       "  max_iter=-1, probability=False, random_state=None, shrinking=True,\n",
       "  tol=0.001, verbose=False),\n",
       "       fit_params={}, iid=True, n_jobs=1,\n",
       "       param_grid={'kernel': ['rbf'], 'C': [0.01, 0.1, 1, 10, 100, 1000], 'gamma': [1, 0.1, 0.01, 0.001, 0.0001]},\n",
       "       pre_dispatch='2*n_jobs', refit=True, return_train_score=True,\n",
       "       scoring=None, verbose=0)"
      ]
     },
     "execution_count": 12,
     "metadata": {},
     "output_type": "execute_result"
    }
   ],
   "source": [
    "param_grid_svc_rbf = {'C': [0.01, 0.1, 1, 10, 100, 1000], \n",
    "                         'gamma': [1, 0.1, 0.01, 0.001, 0.0001], \n",
    "                         'kernel': ['rbf']}\n",
    "clf2 = GridSearchCV(model_svc_rbf, param_grid_svc_rbf)\n",
    "clf2.fit(X_train, y_train)"
   ]
  },
  {
   "cell_type": "code",
   "execution_count": 13,
   "metadata": {
    "collapsed": false
   },
   "outputs": [
    {
     "name": "stdout",
     "output_type": "stream",
     "text": [
      "{'kernel': 'rbf', 'C': 1000, 'gamma': 0.01}\n",
      "0.934885556433\n"
     ]
    }
   ],
   "source": [
    "print clf2.best_params_\n",
    "print clf2.best_score_"
   ]
  },
  {
   "cell_type": "markdown",
   "metadata": {},
   "source": [
    "### Из первой сетки наилучшими параметрами оказались C = 1000 и gamma = 0.01. Можно предположить, что чем выше константа C, тем лучше. На счет gamma пока не очень понятно, поэтому в новой сетке рассмотрим ряд значений, лежащих в окрестности 0.01."
   ]
  },
  {
   "cell_type": "code",
   "execution_count": 10,
   "metadata": {
    "collapsed": false
   },
   "outputs": [
    {
     "data": {
      "text/plain": [
       "GridSearchCV(cv=None, error_score='raise',\n",
       "       estimator=SVC(C=1.0, cache_size=200, class_weight=None, coef0=0.0,\n",
       "  decision_function_shape=None, degree=3, gamma='auto', kernel='rbf',\n",
       "  max_iter=-1, probability=False, random_state=None, shrinking=True,\n",
       "  tol=0.001, verbose=False),\n",
       "       fit_params={}, iid=True, n_jobs=1,\n",
       "       param_grid={'kernel': ['rbf'], 'C': [1000, 10000], 'gamma': [0.005, 0.007, 0.009, 0.01, 0.03, 0.05, 0.07]},\n",
       "       pre_dispatch='2*n_jobs', refit=True, return_train_score=True,\n",
       "       scoring=None, verbose=0)"
      ]
     },
     "execution_count": 10,
     "metadata": {},
     "output_type": "execute_result"
    }
   ],
   "source": [
    "param_grid_svc_rbf2 = {'C': [1000, 10000], \n",
    "                         'gamma': [0.005, 0.007, 0.009, 0.01, 0.03, 0.05, 0.07], \n",
    "                         'kernel': ['rbf']}\n",
    "clf2 = GridSearchCV(model_svc_rbf, param_grid_svc_rbf2)\n",
    "clf2.fit(X_train, y_train)"
   ]
  },
  {
   "cell_type": "code",
   "execution_count": 11,
   "metadata": {
    "collapsed": false
   },
   "outputs": [
    {
     "name": "stdout",
     "output_type": "stream",
     "text": [
      "{'kernel': 'rbf', 'C': 10000, 'gamma': 0.005}\n",
      "0.94909234412\n"
     ]
    }
   ],
   "source": [
    "print clf2.best_params_\n",
    "print clf2.best_score_"
   ]
  },
  {
   "cell_type": "markdown",
   "metadata": {},
   "source": [
    "### Удалось добится улучшения еще на 1%, но может можно еще лучше?"
   ]
  },
  {
   "cell_type": "code",
   "execution_count": 8,
   "metadata": {
    "collapsed": false
   },
   "outputs": [
    {
     "data": {
      "text/plain": [
       "GridSearchCV(cv=None, error_score='raise',\n",
       "       estimator=SVC(C=1.0, cache_size=200, class_weight=None, coef0=0.0,\n",
       "  decision_function_shape=None, degree=3, gamma='auto', kernel='rbf',\n",
       "  max_iter=-1, probability=False, random_state=None, shrinking=True,\n",
       "  tol=0.001, verbose=False),\n",
       "       fit_params={}, iid=True, n_jobs=1,\n",
       "       param_grid={'kernel': ['rbf'], 'C': [10000, 100000], 'gamma': [0.004, 0.0045, 0.005, 0.0055, 0.006]},\n",
       "       pre_dispatch='2*n_jobs', refit=True, return_train_score=True,\n",
       "       scoring=None, verbose=0)"
      ]
     },
     "execution_count": 8,
     "metadata": {},
     "output_type": "execute_result"
    }
   ],
   "source": [
    "param_grid_svc_rbf3 = {'C': [10000, 100000], \n",
    "                         'gamma': [0.004, 0.0045, 0.005, 0.0055, 0.006], \n",
    "                         'kernel': ['rbf']}\n",
    "clf2 = GridSearchCV(model_svc_rbf, param_grid_svc_rbf3)\n",
    "clf2.fit(X_train, y_train)"
   ]
  },
  {
   "cell_type": "code",
   "execution_count": 9,
   "metadata": {
    "collapsed": false
   },
   "outputs": [
    {
     "name": "stdout",
     "output_type": "stream",
     "text": [
      "{'kernel': 'rbf', 'C': 10000, 'gamma': 0.004}\n",
      "0.952644041042\n"
     ]
    }
   ],
   "source": [
    "print clf2.best_params_\n",
    "print clf2.best_score_"
   ]
  },
  {
   "cell_type": "markdown",
   "metadata": {
    "collapsed": true
   },
   "source": [
    "### Почти ничего не поменялось, возможно для rbf это где-то на пределе.\n",
    "### Теперь давайте поэкспериментируем с linear kernel."
   ]
  },
  {
   "cell_type": "code",
   "execution_count": 12,
   "metadata": {
    "collapsed": false
   },
   "outputs": [
    {
     "data": {
      "text/plain": [
       "GridSearchCV(cv=None, error_score='raise',\n",
       "       estimator=SVC(C=1.0, cache_size=200, class_weight=None, coef0=0.0,\n",
       "  decision_function_shape=None, degree=3, gamma='auto', kernel='linear',\n",
       "  max_iter=-1, probability=False, random_state=None, shrinking=True,\n",
       "  tol=0.001, verbose=False),\n",
       "       fit_params={}, iid=True, n_jobs=1,\n",
       "       param_grid={'kernel': ['linear'], 'C': [0.01, 0.1, 1, 10, 100, 1000]},\n",
       "       pre_dispatch='2*n_jobs', refit=True, return_train_score=True,\n",
       "       scoring=None, verbose=0)"
      ]
     },
     "execution_count": 12,
     "metadata": {},
     "output_type": "execute_result"
    }
   ],
   "source": [
    "param_grid_svc_linear = {'C':[0.01, 0.1, 1, 10, 100, 1000],\n",
    "                         'kernel':['linear']}\n",
    "clf3 = GridSearchCV(model_svc_linear, param_grid_svc_linear)\n",
    "clf3.fit(X_train, y_train)"
   ]
  },
  {
   "cell_type": "code",
   "execution_count": 13,
   "metadata": {
    "collapsed": false
   },
   "outputs": [
    {
     "name": "stdout",
     "output_type": "stream",
     "text": [
      "{'kernel': 'linear', 'C': 10}\n",
      "0.974348855564\n"
     ]
    }
   ],
   "source": [
    "print clf3.best_params_\n",
    "print clf3.best_score_"
   ]
  },
  {
   "cell_type": "code",
   "execution_count": 14,
   "metadata": {
    "collapsed": false
   },
   "outputs": [
    {
     "data": {
      "text/plain": [
       "GridSearchCV(cv=None, error_score='raise',\n",
       "       estimator=SVC(C=1.0, cache_size=200, class_weight=None, coef0=0.0,\n",
       "  decision_function_shape=None, degree=3, gamma='auto', kernel='linear',\n",
       "  max_iter=-1, probability=False, random_state=None, shrinking=True,\n",
       "  tol=0.001, verbose=False),\n",
       "       fit_params={}, iid=True, n_jobs=1,\n",
       "       param_grid={'kernel': ['linear'], 'C': [5, 10, 15, 20, 25, 30]},\n",
       "       pre_dispatch='2*n_jobs', refit=True, return_train_score=True,\n",
       "       scoring=None, verbose=0)"
      ]
     },
     "execution_count": 14,
     "metadata": {},
     "output_type": "execute_result"
    }
   ],
   "source": [
    "param_grid_svc_linear2 = {'C':[5, 10, 15, 20, 25, 30],\n",
    "                         'kernel':['linear']}\n",
    "clf3 = GridSearchCV(model_svc_linear, param_grid_svc_linear2)\n",
    "clf3.fit(X_train, y_train)"
   ]
  },
  {
   "cell_type": "code",
   "execution_count": 15,
   "metadata": {
    "collapsed": false
   },
   "outputs": [
    {
     "name": "stdout",
     "output_type": "stream",
     "text": [
      "{'kernel': 'linear', 'C': 10}\n",
      "0.974348855564\n"
     ]
    }
   ],
   "source": [
    "print clf3.best_params_\n",
    "print clf3.best_score_"
   ]
  },
  {
   "cell_type": "code",
   "execution_count": 16,
   "metadata": {
    "collapsed": false
   },
   "outputs": [
    {
     "data": {
      "text/plain": [
       "GridSearchCV(cv=None, error_score='raise',\n",
       "       estimator=SVC(C=1.0, cache_size=200, class_weight=None, coef0=0.0,\n",
       "  decision_function_shape=None, degree=3, gamma='auto', kernel='linear',\n",
       "  max_iter=-1, probability=False, random_state=None, shrinking=True,\n",
       "  tol=0.001, verbose=False),\n",
       "       fit_params={}, iid=True, n_jobs=1,\n",
       "       param_grid={'kernel': ['linear'], 'C': [8, 9, 10, 11, 12]},\n",
       "       pre_dispatch='2*n_jobs', refit=True, return_train_score=True,\n",
       "       scoring=None, verbose=0)"
      ]
     },
     "execution_count": 16,
     "metadata": {},
     "output_type": "execute_result"
    }
   ],
   "source": [
    "param_grid_svc_linear3 = {'C':[8, 9, 10, 11, 12],\n",
    "                         'kernel':['linear']}\n",
    "clf3 = GridSearchCV(model_svc_linear, param_grid_svc_linear3)\n",
    "clf3.fit(X_train, y_train)"
   ]
  },
  {
   "cell_type": "code",
   "execution_count": 17,
   "metadata": {
    "collapsed": false
   },
   "outputs": [
    {
     "name": "stdout",
     "output_type": "stream",
     "text": [
      "{'kernel': 'linear', 'C': 12}\n",
      "0.974743488556\n"
     ]
    }
   ],
   "source": [
    "print clf3.best_params_\n",
    "print clf3.best_score_"
   ]
  },
  {
   "cell_type": "markdown",
   "metadata": {},
   "source": [
    "### Тоже весьма неплохо. Последнее, с чем хотелось бы поэкспериментировать - это тип регуляризации в логистической регрессии, который по умолчанию - 'l2' и дает точность в 90% при проверке скользящим контролем."
   ]
  },
  {
   "cell_type": "code",
   "execution_count": 22,
   "metadata": {
    "collapsed": false
   },
   "outputs": [
    {
     "name": "stdout",
     "output_type": "stream",
     "text": [
      "0.972766218937\n"
     ]
    }
   ],
   "source": [
    "model_lr2 = LogisticRegression(penalty='l1')\n",
    "print cross_val_score(model_lr2, X_train, y_train, cv=kfold).mean()"
   ]
  },
  {
   "cell_type": "markdown",
   "metadata": {},
   "source": [
    "### 97%! Это существенное улучшение."
   ]
  },
  {
   "cell_type": "markdown",
   "metadata": {},
   "source": [
    "### Теперь давайте проведем финальное сравнение на тестовой выборке, которую ни один из алгоритмов еще не видел и решим какая модель побеждает."
   ]
  },
  {
   "cell_type": "code",
   "execution_count": 20,
   "metadata": {
    "collapsed": true
   },
   "outputs": [],
   "source": [
    "model_knc_final = KNeighborsClassifier(n_neighbors=7)\n",
    "model_lr_final = LogisticRegression(penalty='l1') \n",
    "model_svc_linear_final = svm.SVC(kernel='linear', C=12)\n",
    "model_svc_rbf_final = svm.SVC(kernel='rbf', C=10000, gamma=0.004)\n",
    "\n",
    "final_test = {}"
   ]
  },
  {
   "cell_type": "code",
   "execution_count": 21,
   "metadata": {
    "collapsed": false
   },
   "outputs": [
    {
     "data": {
      "text/plain": [
       "SVC(C=10000, cache_size=200, class_weight=None, coef0=0.0,\n",
       "  decision_function_shape=None, degree=3, gamma=0.004, kernel='rbf',\n",
       "  max_iter=-1, probability=False, random_state=None, shrinking=True,\n",
       "  tol=0.001, verbose=False)"
      ]
     },
     "execution_count": 21,
     "metadata": {},
     "output_type": "execute_result"
    }
   ],
   "source": [
    "model_knc_final.fit(X_train, y_train)\n",
    "model_lr_final.fit(X_train, y_train)\n",
    "model_svc_linear_final.fit(X_train, y_train)\n",
    "model_svc_rbf_final.fit(X_train, y_train)"
   ]
  },
  {
   "cell_type": "code",
   "execution_count": 22,
   "metadata": {
    "collapsed": true
   },
   "outputs": [],
   "source": [
    "final_test['KNeighborsClassifier'] = model_knc_final.score(X_test, y_test)\n",
    "final_test['LogisticRegression'] = model_lr_final.score(X_test, y_test)\n",
    "final_test['SVC(linear kernel)'] = model_svc_linear_final.score(X_test, y_test)\n",
    "final_test['SVC(rbf kernel)'] = model_svc_rbf_final.score(X_test, y_test)"
   ]
  },
  {
   "cell_type": "code",
   "execution_count": 23,
   "metadata": {
    "collapsed": false
   },
   "outputs": [
    {
     "data": {
      "text/plain": [
       "<Container object of 4 artists>"
      ]
     },
     "execution_count": 23,
     "metadata": {},
     "output_type": "execute_result"
    },
    {
     "data": {
      "image/png": "[encoded data removed]",
      "text/plain": [
       "<matplotlib.figure.Figure at 0xa7b63b6c>"
      ]
     },
     "metadata": {},
     "output_type": "display_data"
    }
   ],
   "source": [
    "fig, ax = plt.subplots(figsize=(8, 6))\n",
    "\n",
    "xticks = np.arange(len(final_test.keys()))\n",
    "\n",
    "ax.set_ylim(0, 1.0)\n",
    "ax.set_yticks(np.linspace(0, 1.0, 21))\n",
    "ax.set_xticks(xticks)\n",
    "ax.set_xticklabels(final_test.keys())\n",
    "ax.bar(xticks, final_test.values())"
   ]
  },
  {
   "cell_type": "code",
   "execution_count": 24,
   "metadata": {
    "collapsed": false
   },
   "outputs": [
    {
     "name": "stdout",
     "output_type": "stream",
     "text": [
      "SVC(linear kernel)  -  0.963722397476\n",
      "LogisticRegression  -  0.965299684543\n",
      "SVC(rbf kernel)  -  0.94952681388\n",
      "KNeighborsClassifier  -  0.711356466877\n"
     ]
    }
   ],
   "source": [
    "for model in final_test:\n",
    "    print model, \" - \", final_test[model]"
   ]
  },
  {
   "cell_type": "markdown",
   "metadata": {},
   "source": [
    "### Вроде бы все проверено и на этом можно заканчивать, но настораживает такая низкая эффективность kNN-модели. А что если малозначимые признаки в спорных ситуациях не облегчают выбор а только мешают и из-за похожести их значений \"ближайшими соседями\" становятся образцы разных классов.\n",
    "### Чтобы проверить это утверждение давайте отбросим те признаки, которые ExtraTreesClassifier посчитал малозначимыми и посмотрим что получится."
   ]
  },
  {
   "cell_type": "code",
   "execution_count": 11,
   "metadata": {
    "collapsed": false
   },
   "outputs": [],
   "source": [
    "y = data.label\n",
    "X = data.drop(['label', 'minfun', 'maxfun', 'meandom', 'maxdom', 'skew', 'kurt', 'Q75',\n",
    "               'mindom', 'modindx', 'dfrange', 'centroid', 'median'], axis=1)\n",
    "\n",
    "X_train, X_test, y_train, y_test = train_test_split(X, y, test_size=0.2)"
   ]
  },
  {
   "cell_type": "code",
   "execution_count": 12,
   "metadata": {
    "collapsed": true
   },
   "outputs": [],
   "source": [
    "cv_scores = cross_val_score(model_knc, X_train, y_train, cv = kfold)\n",
    "scores['KNeighborsClassifier'] = cv_scores.mean()\n",
    "cv_scores = cross_val_score(model_lr, X_train, y_train, cv = kfold)\n",
    "scores['LogisticRegression'] = cv_scores.mean()\n",
    "cv_scores = cross_val_score(model_svc_linear, X_train, y_train, cv = kfold)\n",
    "scores['SVC(linear kernel)'] = cv_scores.mean()\n",
    "cv_scores = cross_val_score(model_svc_rbf, X_train, y_train, cv = kfold)\n",
    "scores['SVC(rbf kernel)'] = cv_scores.mean()"
   ]
  },
  {
   "cell_type": "code",
   "execution_count": 13,
   "metadata": {
    "collapsed": false,
    "scrolled": true
   },
   "outputs": [
    {
     "data": {
      "text/plain": [
       "<Container object of 4 artists>"
      ]
     },
     "execution_count": 13,
     "metadata": {},
     "output_type": "execute_result"
    },
    {
     "data": {
      "image/png": "[encoded data removed]",
      "text/plain": [
       "<matplotlib.figure.Figure at 0xa5bd172c>"
      ]
     },
     "metadata": {},
     "output_type": "display_data"
    }
   ],
   "source": [
    "fig, ax = plt.subplots(figsize=(8, 6))\n",
    "\n",
    "xticks = np.arange(len(scores.keys()))\n",
    "\n",
    "ax.set_ylim(0, 1.0)\n",
    "ax.set_yticks(np.linspace(0, 1.0, 21))\n",
    "ax.set_xticks(xticks)\n",
    "ax.set_xticklabels(scores.keys())\n",
    "ax.bar(xticks, scores.values())"
   ]
  },
  {
   "cell_type": "markdown",
   "metadata": {},
   "source": [
    "### Вот это поворот! kNN не то что не уступает, а даже показывает ощутимо лучшие результаты по сравнению с остальными. Кроме того, модель SVC с RBF kernel тоже серьезно улучшила свои показатели."
   ]
  },
  {
   "cell_type": "code",
   "execution_count": 14,
   "metadata": {
    "collapsed": false
   },
   "outputs": [
    {
     "data": {
      "text/plain": [
       "GridSearchCV(cv=None, error_score='raise',\n",
       "       estimator=KNeighborsClassifier(algorithm='auto', leaf_size=30, metric='minkowski',\n",
       "           metric_params=None, n_jobs=1, n_neighbors=5, p=2,\n",
       "           weights='uniform'),\n",
       "       fit_params={}, iid=True, n_jobs=1,\n",
       "       param_grid={'n_neighbors': array([ 1,  2,  3,  4,  5,  6,  7,  8,  9, 10, 11, 12, 13, 14, 15, 16, 17,\n",
       "       18, 19, 20, 21, 22, 23, 24, 25, 26, 27, 28, 29, 30, 31, 32, 33, 34,\n",
       "       35, 36, 37, 38, 39, 40, 41, 42, 43, 44, 45, 46, 47, 48, 49, 50, 51,\n",
       "       52, 53, 54, 55, 56, 57, 58, 59, 60])},\n",
       "       pre_dispatch='2*n_jobs', refit=True, return_train_score=True,\n",
       "       scoring=None, verbose=0)"
      ]
     },
     "execution_count": 14,
     "metadata": {},
     "output_type": "execute_result"
    }
   ],
   "source": [
    "param_grid = {'n_neighbors':np.arange(60) + 1}\n",
    "clf = GridSearchCV(model_knc, param_grid)\n",
    "clf.fit(X_train, y_train)"
   ]
  },
  {
   "cell_type": "code",
   "execution_count": 15,
   "metadata": {
    "collapsed": false
   },
   "outputs": [
    {
     "name": "stdout",
     "output_type": "stream",
     "text": [
      "{'n_neighbors': 2}\n",
      "0.971586424625\n"
     ]
    }
   ],
   "source": [
    "print clf.best_params_\n",
    "print clf.best_score_"
   ]
  },
  {
   "cell_type": "code",
   "execution_count": 16,
   "metadata": {
    "collapsed": false
   },
   "outputs": [
    {
     "data": {
      "text/plain": [
       "GridSearchCV(cv=None, error_score='raise',\n",
       "       estimator=SVC(C=1.0, cache_size=200, class_weight=None, coef0=0.0,\n",
       "  decision_function_shape=None, degree=3, gamma='auto', kernel='rbf',\n",
       "  max_iter=-1, probability=False, random_state=None, shrinking=True,\n",
       "  tol=0.001, verbose=False),\n",
       "       fit_params={}, iid=True, n_jobs=1,\n",
       "       param_grid={'kernel': ['rbf'], 'C': [0.01, 0.1, 1, 10, 100, 1000], 'gamma': [1, 0.1, 0.01, 0.001, 0.0001]},\n",
       "       pre_dispatch='2*n_jobs', refit=True, return_train_score=True,\n",
       "       scoring=None, verbose=0)"
      ]
     },
     "execution_count": 16,
     "metadata": {},
     "output_type": "execute_result"
    }
   ],
   "source": [
    "param_grid_svc_rbf = {'C': [0.01, 0.1, 1, 10, 100, 1000], \n",
    "                         'gamma': [1, 0.1, 0.01, 0.001, 0.0001], \n",
    "                         'kernel': ['rbf']}\n",
    "clf2 = GridSearchCV(model_svc_rbf, param_grid_svc_rbf)\n",
    "clf2.fit(X_train, y_train)"
   ]
  },
  {
   "cell_type": "code",
   "execution_count": 17,
   "metadata": {
    "collapsed": false
   },
   "outputs": [
    {
     "name": "stdout",
     "output_type": "stream",
     "text": [
      "{'kernel': 'rbf', 'C': 1000, 'gamma': 1}\n",
      "0.97592738753\n"
     ]
    }
   ],
   "source": [
    "print clf2.best_params_\n",
    "print clf2.best_score_"
   ]
  },
  {
   "cell_type": "code",
   "execution_count": 20,
   "metadata": {
    "collapsed": false
   },
   "outputs": [
    {
     "data": {
      "text/plain": [
       "GridSearchCV(cv=None, error_score='raise',\n",
       "       estimator=SVC(C=1.0, cache_size=200, class_weight=None, coef0=0.0,\n",
       "  decision_function_shape=None, degree=3, gamma='auto', kernel='rbf',\n",
       "  max_iter=-1, probability=False, random_state=None, shrinking=True,\n",
       "  tol=0.001, verbose=False),\n",
       "       fit_params={}, iid=True, n_jobs=1,\n",
       "       param_grid={'kernel': ['rbf'], 'C': [500, 1000, 1500, 2000, 2500, 3000, 3500, 4000], 'gamma': [0.5, 0.75, 1, 1.25, 1.5, 1.75, 2, 2.25, 2.0]},\n",
       "       pre_dispatch='2*n_jobs', refit=True, return_train_score=True,\n",
       "       scoring=None, verbose=0)"
      ]
     },
     "execution_count": 20,
     "metadata": {},
     "output_type": "execute_result"
    }
   ],
   "source": [
    "param_grid_svc_rbf = {'C': [500, 1000, 1500, 2000, 2500, 3000, 3500, 4000], \n",
    "                         'gamma': [0.5, 0.75, 1, 1.25, 1.5, 1.75, 2, 2.25, 2.5], \n",
    "                         'kernel': ['rbf']}\n",
    "clf2 = GridSearchCV(model_svc_rbf, param_grid_svc_rbf)\n",
    "clf2.fit(X_train, y_train)"
   ]
  },
  {
   "cell_type": "code",
   "execution_count": 21,
   "metadata": {
    "collapsed": false
   },
   "outputs": [
    {
     "name": "stdout",
     "output_type": "stream",
     "text": [
      "{'kernel': 'rbf', 'C': 3500, 'gamma': 1.75}\n",
      "0.979873717443\n"
     ]
    }
   ],
   "source": [
    "print clf2.best_params_\n",
    "print clf2.best_score_"
   ]
  },
  {
   "cell_type": "code",
   "execution_count": 22,
   "metadata": {
    "collapsed": false
   },
   "outputs": [
    {
     "data": {
      "text/plain": [
       "GridSearchCV(cv=None, error_score='raise',\n",
       "       estimator=SVC(C=1.0, cache_size=200, class_weight=None, coef0=0.0,\n",
       "  decision_function_shape=None, degree=3, gamma='auto', kernel='rbf',\n",
       "  max_iter=-1, probability=False, random_state=None, shrinking=True,\n",
       "  tol=0.001, verbose=False),\n",
       "       fit_params={}, iid=True, n_jobs=1,\n",
       "       param_grid={'kernel': ['rbf'], 'C': [3300, 3400, 3500, 3600, 3700], 'gamma': [1.6, 1.65, 1.7, 1.75, 1.8, 1.85, 1.9]},\n",
       "       pre_dispatch='2*n_jobs', refit=True, return_train_score=True,\n",
       "       scoring=None, verbose=0)"
      ]
     },
     "execution_count": 22,
     "metadata": {},
     "output_type": "execute_result"
    }
   ],
   "source": [
    "param_grid_svc_rbf = {'C': [3300, 3400, 3500, 3600, 3700], \n",
    "                         'gamma': [1.6, 1.65, 1.7, 1.75, 1.8, 1.85, 1.9], \n",
    "                         'kernel': ['rbf']}\n",
    "clf2 = GridSearchCV(model_svc_rbf, param_grid_svc_rbf)\n",
    "clf2.fit(X_train, y_train)"
   ]
  },
  {
   "cell_type": "code",
   "execution_count": 23,
   "metadata": {
    "collapsed": false
   },
   "outputs": [
    {
     "name": "stdout",
     "output_type": "stream",
     "text": [
      "{'kernel': 'rbf', 'C': 3700, 'gamma': 1.7}\n",
      "0.980268350434\n"
     ]
    }
   ],
   "source": [
    "print clf2.best_params_\n",
    "print clf2.best_score_"
   ]
  },
  {
   "cell_type": "markdown",
   "metadata": {},
   "source": [
    "### Давайте же посмотрим как модели покажут себя на тестовом датасете с учетом отброшенных признаков."
   ]
  },
  {
   "cell_type": "code",
   "execution_count": 24,
   "metadata": {
    "collapsed": true
   },
   "outputs": [],
   "source": [
    "model_knc_final = KNeighborsClassifier(n_neighbors=2)\n",
    "model_lr_final = LogisticRegression(penalty='l1') \n",
    "model_svc_linear_final = svm.SVC(kernel='linear', C=12)\n",
    "model_svc_rbf_final = svm.SVC(kernel='rbf', C=3700, gamma=1.7)\n",
    "\n",
    "final_test = {}"
   ]
  },
  {
   "cell_type": "code",
   "execution_count": 25,
   "metadata": {
    "collapsed": false
   },
   "outputs": [
    {
     "data": {
      "text/plain": [
       "SVC(C=3700, cache_size=200, class_weight=None, coef0=0.0,\n",
       "  decision_function_shape=None, degree=3, gamma=1.7, kernel='rbf',\n",
       "  max_iter=-1, probability=False, random_state=None, shrinking=True,\n",
       "  tol=0.001, verbose=False)"
      ]
     },
     "execution_count": 25,
     "metadata": {},
     "output_type": "execute_result"
    }
   ],
   "source": [
    "model_knc_final.fit(X_train, y_train)\n",
    "model_lr_final.fit(X_train, y_train)\n",
    "model_svc_linear_final.fit(X_train, y_train)\n",
    "model_svc_rbf_final.fit(X_train, y_train)"
   ]
  },
  {
   "cell_type": "code",
   "execution_count": 26,
   "metadata": {
    "collapsed": true
   },
   "outputs": [],
   "source": [
    "final_test['KNeighborsClassifier'] = model_knc_final.score(X_test, y_test)\n",
    "final_test['LogisticRegression'] = model_lr_final.score(X_test, y_test)\n",
    "final_test['SVC(linear kernel)'] = model_svc_linear_final.score(X_test, y_test)\n",
    "final_test['SVC(rbf kernel)'] = model_svc_rbf_final.score(X_test, y_test)"
   ]
  },
  {
   "cell_type": "code",
   "execution_count": 27,
   "metadata": {
    "collapsed": false
   },
   "outputs": [
    {
     "data": {
      "text/plain": [
       "<Container object of 4 artists>"
      ]
     },
     "execution_count": 27,
     "metadata": {},
     "output_type": "execute_result"
    },
    {
     "data": {
      "image/png": "[encoded data removed]",
      "text/plain": [
       "<matplotlib.figure.Figure at 0xa5bc10ec>"
      ]
     },
     "metadata": {},
     "output_type": "display_data"
    }
   ],
   "source": [
    "fig, ax = plt.subplots(figsize=(8, 6))\n",
    "\n",
    "xticks = np.arange(len(final_test.keys()))\n",
    "\n",
    "ax.set_ylim(0, 1.0)\n",
    "ax.set_yticks(np.linspace(0, 1.0, 21))\n",
    "ax.set_xticks(xticks)\n",
    "ax.set_xticklabels(final_test.keys())\n",
    "ax.bar(xticks, final_test.values())"
   ]
  },
  {
   "cell_type": "code",
   "execution_count": 28,
   "metadata": {
    "collapsed": false
   },
   "outputs": [
    {
     "name": "stdout",
     "output_type": "stream",
     "text": [
      "SVC(linear kernel)  -  0.968454258675\n",
      "LogisticRegression  -  0.973186119874\n",
      "SVC(rbf kernel)  -  0.970031545741\n",
      "KNeighborsClassifier  -  0.971608832808\n"
     ]
    }
   ],
   "source": [
    "for model in final_test:\n",
    "    print model, \" - \", final_test[model]"
   ]
  },
  {
   "cell_type": "markdown",
   "metadata": {},
   "source": [
    "### В результате модели, которую можно считать победителем как таковой нету. Но ради точности можно заметить что лучшее поведение показала логистическая регрессия(с очень маленьким отрывом)."
   ]
  }
 ],
 "metadata": {
  "kernelspec": {
   "display_name": "Python 2",
   "language": "python",
   "name": "python2"
  },
  "language_info": {
   "codemirror_mode": {
    "name": "ipython",
    "version": 2
   },
   "file_extension": ".py",
   "mimetype": "text/x-python",
   "name": "python",
   "nbconvert_exporter": "python",
   "pygments_lexer": "ipython2",
   "version": "2.7.12"
  }
 },
 "nbformat": 4,
 "nbformat_minor": 0
}
